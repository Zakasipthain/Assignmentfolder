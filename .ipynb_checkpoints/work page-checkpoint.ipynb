{
 "cells": [
  {
   "cell_type": "code",
   "execution_count": 20,
   "id": "803bbbb3",
   "metadata": {},
   "outputs": [
    {
     "data": {
      "text/plain": [
       "[1, 2, 3, 4, 5, 6, 7, 8]"
      ]
     },
     "execution_count": 20,
     "metadata": {},
     "output_type": "execute_result"
    }
   ],
   "source": [
    "mylist=list([1,2,3,4,5,6,7,8])\n",
    "mylist "
   ]
  },
  {
   "cell_type": "code",
   "execution_count": 7,
   "id": "754e813c",
   "metadata": {},
   "outputs": [
    {
     "data": {
      "text/plain": [
       "[1, 2, 3, 4, 5, 6, 7, 8, 9]"
      ]
     },
     "execution_count": 7,
     "metadata": {},
     "output_type": "execute_result"
    }
   ],
   "source": [
    "mylist.append(9) \n",
    "# add an item to the end of the list\n",
    "mylist"
   ]
  },
  {
   "cell_type": "code",
   "execution_count": 9,
   "id": "80f96307",
   "metadata": {},
   "outputs": [
    {
     "data": {
      "text/plain": [
       "[1, 2, 3, 10, 4, 5, 6, 7, 8, 9]"
      ]
     },
     "execution_count": 9,
     "metadata": {},
     "output_type": "execute_result"
    }
   ],
   "source": [
    "mylist.insert(3,10)\n",
    "# add item at index location 3\n",
    "mylist"
   ]
  },
  {
   "cell_type": "code",
   "execution_count": 10,
   "id": "5b765cc9",
   "metadata": {},
   "outputs": [
    {
     "data": {
      "text/plain": [
       "[1, 2, 3, 10, 4, 5, 6, 7, 8, 9, 11, 12, 13]"
      ]
     },
     "execution_count": 10,
     "metadata": {},
     "output_type": "execute_result"
    }
   ],
   "source": [
    "mylist.extend([11,12,13])\n",
    "# add multiple items at end \n",
    "mylist"
   ]
  },
  {
   "cell_type": "code",
   "execution_count": 11,
   "id": "37de2a49",
   "metadata": {},
   "outputs": [
    {
     "data": {
      "text/plain": [
       "13"
      ]
     },
     "execution_count": 11,
     "metadata": {},
     "output_type": "execute_result"
    }
   ],
   "source": [
    "mylist.pop() #remove last element from list"
   ]
  },
  {
   "cell_type": "code",
   "execution_count": 12,
   "id": "ee5c9637",
   "metadata": {},
   "outputs": [
    {
     "data": {
      "text/plain": [
       "[1, 2, 3, 10, 4, 5, 6, 7, 9, 11, 12]"
      ]
     },
     "execution_count": 12,
     "metadata": {},
     "output_type": "execute_result"
    }
   ],
   "source": [
    "mylist.pop(8) # remove item at index location \n",
    "mylist"
   ]
  },
  {
   "cell_type": "code",
   "execution_count": 14,
   "id": "50bcbe3c",
   "metadata": {},
   "outputs": [
    {
     "data": {
      "text/plain": [
       "[2, 3, 10, 4, 5, 6, 7, 9, 11, 12]"
      ]
     },
     "execution_count": 14,
     "metadata": {},
     "output_type": "execute_result"
    }
   ],
   "source": [
    "mylist.remove(1) # remove item 'ONE' (value)\n",
    "mylist"
   ]
  },
  {
   "cell_type": "code",
   "execution_count": 16,
   "id": "c21e972b",
   "metadata": {},
   "outputs": [
    {
     "data": {
      "text/plain": [
       "[2, 3, 10, 4, 5, 6, 7, 11, 12]"
      ]
     },
     "execution_count": 16,
     "metadata": {},
     "output_type": "execute_result"
    }
   ],
   "source": [
    "del mylist[7] # remove item at index loc 7\n",
    "mylist"
   ]
  },
  {
   "cell_type": "code",
   "execution_count": 17,
   "id": "0bcf2c2b",
   "metadata": {},
   "outputs": [
    {
     "data": {
      "text/plain": [
       "[]"
      ]
     },
     "execution_count": 17,
     "metadata": {},
     "output_type": "execute_result"
    }
   ],
   "source": [
    "mylist.clear() # empty list / delete all item in the list\n",
    "mylist"
   ]
  },
  {
   "cell_type": "code",
   "execution_count": 18,
   "id": "17674431",
   "metadata": {},
   "outputs": [],
   "source": [
    "del mylist # dele entire list"
   ]
  },
  {
   "cell_type": "code",
   "execution_count": 21,
   "id": "fb511605",
   "metadata": {},
   "outputs": [
    {
     "data": {
      "text/plain": [
       "[1, 2, 3, 4, 5, 6, 7, 8]"
      ]
     },
     "execution_count": 21,
     "metadata": {},
     "output_type": "execute_result"
    }
   ],
   "source": [
    "mylist"
   ]
  },
  {
   "cell_type": "markdown",
   "id": "6552a2b0",
   "metadata": {},
   "source": [
    "## join list"
   ]
  },
  {
   "cell_type": "code",
   "execution_count": 29,
   "id": "314bc751",
   "metadata": {},
   "outputs": [],
   "source": [
    "list1=[1,2,3,4]\n",
    "list2=[5,6,7,8]"
   ]
  },
  {
   "cell_type": "code",
   "execution_count": 30,
   "id": "2616777a",
   "metadata": {},
   "outputs": [
    {
     "data": {
      "text/plain": [
       "[1, 2, 3, 4, 5, 6, 7, 8]"
      ]
     },
     "execution_count": 30,
     "metadata": {},
     "output_type": "execute_result"
    }
   ],
   "source": [
    "list3=list1 + list2 #join two lists by + operator \n",
    "list3"
   ]
  },
  {
   "cell_type": "code",
   "execution_count": 24,
   "id": "0ad208b3",
   "metadata": {},
   "outputs": [
    {
     "data": {
      "text/plain": [
       "[5, 6, 7, 8, 1, 2, 3, 4]"
      ]
     },
     "execution_count": 24,
     "metadata": {},
     "output_type": "execute_result"
    }
   ],
   "source": [
    "list2.extend(list1) # append list2 with list1 \n",
    "list2"
   ]
  },
  {
   "cell_type": "code",
   "execution_count": 26,
   "id": "5f90a03a",
   "metadata": {},
   "outputs": [
    {
     "data": {
      "text/plain": [
       "[1, 2, 3, 4, 5, 6, 7, 8, 1, 2, 3, 4]"
      ]
     },
     "execution_count": 26,
     "metadata": {},
     "output_type": "execute_result"
    }
   ],
   "source": [
    "list1.extend(list2)\n",
    "list1"
   ]
  },
  {
   "cell_type": "code",
   "execution_count": 28,
   "id": "5f506005",
   "metadata": {},
   "outputs": [
    {
     "data": {
      "text/plain": [
       "[[1, 2, 3, 4, 5, 6, 7, 8, 1, 2, 3, 4],\n",
       " [1, 2, 3, 4, 5, 6, 7, 8, 1, 2, 3, 4],\n",
       " 5,\n",
       " 6,\n",
       " 7,\n",
       " 8,\n",
       " 1,\n",
       " 2,\n",
       " 3,\n",
       " 4]"
      ]
     },
     "execution_count": 28,
     "metadata": {},
     "output_type": "execute_result"
    }
   ],
   "source": [
    "list2.insert(0,list1)\n",
    "list2"
   ]
  },
  {
   "cell_type": "markdown",
   "id": "cfc85ab7",
   "metadata": {},
   "source": [
    "list membership "
   ]
  },
  {
   "cell_type": "code",
   "execution_count": 31,
   "id": "bae6f169",
   "metadata": {},
   "outputs": [
    {
     "data": {
      "text/plain": [
       "[1, 2, 3, 4]"
      ]
     },
     "execution_count": 31,
     "metadata": {},
     "output_type": "execute_result"
    }
   ],
   "source": [
    "list1"
   ]
  },
  {
   "cell_type": "code",
   "execution_count": 32,
   "id": "794735fc",
   "metadata": {},
   "outputs": [
    {
     "data": {
      "text/plain": [
       "False"
      ]
     },
     "execution_count": 32,
     "metadata": {},
     "output_type": "execute_result"
    }
   ],
   "source": [
    "'one' in list1 #check if one exits in the list "
   ]
  },
  {
   "cell_type": "code",
   "execution_count": 34,
   "id": "9bc08b12",
   "metadata": {},
   "outputs": [
    {
     "data": {
      "text/plain": [
       "True"
      ]
     },
     "execution_count": 34,
     "metadata": {},
     "output_type": "execute_result"
    }
   ],
   "source": [
    "4 in list1 # check if 4 exits in the list"
   ]
  },
  {
   "cell_type": "markdown",
   "id": "eec8f713",
   "metadata": {},
   "source": [
    "## reverse & sort list"
   ]
  },
  {
   "cell_type": "code",
   "execution_count": 35,
   "id": "bcbae05e",
   "metadata": {},
   "outputs": [],
   "source": [
    "list1=[5,7,2,9,1,0,42] # reverse order"
   ]
  },
  {
   "cell_type": "code",
   "execution_count": 36,
   "id": "f5bfa899",
   "metadata": {},
   "outputs": [
    {
     "data": {
      "text/plain": [
       "[42, 0, 1, 9, 2, 7, 5]"
      ]
     },
     "execution_count": 36,
     "metadata": {},
     "output_type": "execute_result"
    }
   ],
   "source": [
    "list1.reverse() # reverse the list \n",
    "list1"
   ]
  },
  {
   "cell_type": "code",
   "execution_count": 44,
   "id": "33a4cbb0",
   "metadata": {},
   "outputs": [
    {
     "data": {
      "text/plain": [
       "[5, 7, 2, 9, 1, 0, 42]"
      ]
     },
     "execution_count": 44,
     "metadata": {},
     "output_type": "execute_result"
    }
   ],
   "source": [
    "list1[::-1] #reverse the list"
   ]
  },
  {
   "cell_type": "code",
   "execution_count": 45,
   "id": "bb1c6058",
   "metadata": {},
   "outputs": [
    {
     "data": {
      "text/plain": [
       "[42, 0, 1, 9, 2, 7, 5]"
      ]
     },
     "execution_count": 45,
     "metadata": {},
     "output_type": "execute_result"
    }
   ],
   "source": [
    "list1"
   ]
  },
  {
   "cell_type": "code",
   "execution_count": 46,
   "id": "7e84c8fb",
   "metadata": {},
   "outputs": [],
   "source": [
    "list1.sort() "
   ]
  },
  {
   "cell_type": "code",
   "execution_count": 47,
   "id": "c551b949",
   "metadata": {},
   "outputs": [
    {
     "data": {
      "text/plain": [
       "[0, 1, 2, 5, 7, 9, 42]"
      ]
     },
     "execution_count": 47,
     "metadata": {},
     "output_type": "execute_result"
    }
   ],
   "source": [
    "list1"
   ]
  },
  {
   "cell_type": "code",
   "execution_count": 48,
   "id": "3e4252cb",
   "metadata": {},
   "outputs": [
    {
     "ename": "TypeError",
     "evalue": "'<' not supported between instances of 'str' and 'int'",
     "output_type": "error",
     "traceback": [
      "\u001b[1;31m---------------------------------------------------------------------------\u001b[0m",
      "\u001b[1;31mTypeError\u001b[0m                                 Traceback (most recent call last)",
      "Cell \u001b[1;32mIn[48], line 2\u001b[0m\n\u001b[0;32m      1\u001b[0m list2\u001b[38;5;241m=\u001b[39m[\u001b[38;5;241m2\u001b[39m,\u001b[38;5;241m4\u001b[39m,\u001b[38;5;124m'\u001b[39m\u001b[38;5;124ma\u001b[39m\u001b[38;5;124m'\u001b[39m,\u001b[38;5;241m3\u001b[39m]\n\u001b[1;32m----> 2\u001b[0m list2\u001b[38;5;241m.\u001b[39msort()\n",
      "\u001b[1;31mTypeError\u001b[0m: '<' not supported between instances of 'str' and 'int'"
     ]
    }
   ],
   "source": [
    "list2=[2,4,'a',3]\n",
    "list2.sort()"
   ]
  },
  {
   "cell_type": "code",
   "execution_count": 50,
   "id": "63d1bbb6",
   "metadata": {},
   "outputs": [
    {
     "data": {
      "text/plain": [
       "[0, 1, 2, 5, 7, 9, 42]"
      ]
     },
     "execution_count": 50,
     "metadata": {},
     "output_type": "execute_result"
    }
   ],
   "source": [
    "list1.sort() # sort in ascending order\n",
    "list1"
   ]
  },
  {
   "cell_type": "code",
   "execution_count": 51,
   "id": "e0712129",
   "metadata": {},
   "outputs": [
    {
     "data": {
      "text/plain": [
       "[42, 9, 7, 5, 2, 1, 0]"
      ]
     },
     "execution_count": 51,
     "metadata": {},
     "output_type": "execute_result"
    }
   ],
   "source": [
    "list1.sort(reverse=True) # sort list in decseding order \n",
    "list1"
   ]
  },
  {
   "cell_type": "code",
   "execution_count": 52,
   "id": "14d6d8fd",
   "metadata": {},
   "outputs": [
    {
     "ename": "SyntaxError",
     "evalue": "invalid syntax (3026773857.py, line 1)",
     "output_type": "error",
     "traceback": [
      "\u001b[1;36m  Cell \u001b[1;32mIn[52], line 1\u001b[1;36m\u001b[0m\n\u001b[1;33m    instance  is aother meaning of object\u001b[0m\n\u001b[1;37m                        ^\u001b[0m\n\u001b[1;31mSyntaxError\u001b[0m\u001b[1;31m:\u001b[0m invalid syntax\n"
     ]
    }
   ],
   "source": [
    "instance  is another meaning of object "
   ]
  },
  {
   "cell_type": "markdown",
   "id": "aaa41295",
   "metadata": {},
   "source": [
    "# all and any"
   ]
  },
  {
   "cell_type": "code",
   "execution_count": 53,
   "id": "aab7921d",
   "metadata": {},
   "outputs": [],
   "source": [
    "L1=[1,2,3,4,5,6]"
   ]
  },
  {
   "cell_type": "code",
   "execution_count": 54,
   "id": "45a2869b",
   "metadata": {},
   "outputs": [],
   "source": [
    "L3 =[1,2,3,4,0]"
   ]
  },
  {
   "cell_type": "code",
   "execution_count": 55,
   "id": "7d57c340",
   "metadata": {},
   "outputs": [
    {
     "data": {
      "text/plain": [
       "False"
      ]
     },
     "execution_count": 55,
     "metadata": {},
     "output_type": "execute_result"
    }
   ],
   "source": [
    "all(L3) # will return false as one value is false (value 0 is false)"
   ]
  },
  {
   "cell_type": "code",
   "execution_count": 57,
   "id": "c19cac0d",
   "metadata": {},
   "outputs": [
    {
     "data": {
      "text/plain": [
       "True"
      ]
     },
     "execution_count": 57,
     "metadata": {},
     "output_type": "execute_result"
    }
   ],
   "source": [
    "any(L1) # will return true as one value is true (value 1 is true)"
   ]
  },
  {
   "cell_type": "markdown",
   "id": "3cb8c62d",
   "metadata": {},
   "source": [
    "# tuple"
   ]
  },
  {
   "cell_type": "code",
   "execution_count": 59,
   "id": "bc43939f",
   "metadata": {},
   "outputs": [
    {
     "data": {
      "text/plain": [
       "0"
      ]
     },
     "execution_count": 59,
     "metadata": {},
     "output_type": "execute_result"
    }
   ],
   "source": [
    "tup1 = () # create a empty tuple\n",
    "len(tup1)"
   ]
  },
  {
   "cell_type": "code",
   "execution_count": 60,
   "id": "fb691591",
   "metadata": {},
   "outputs": [
    {
     "data": {
      "text/plain": [
       "tuple"
      ]
     },
     "execution_count": 60,
     "metadata": {},
     "output_type": "execute_result"
    }
   ],
   "source": [
    "type(tup1)"
   ]
  },
  {
   "cell_type": "code",
   "execution_count": 61,
   "id": "ba593bf9",
   "metadata": {},
   "outputs": [],
   "source": [
    "tup1 = (10,20,30) #tuple of intgers num"
   ]
  },
  {
   "cell_type": "code",
   "execution_count": 62,
   "id": "746f4f60",
   "metadata": {},
   "outputs": [],
   "source": [
    "tup2 = (10.77,20.77,30.77) # tuple of float"
   ]
  },
  {
   "cell_type": "code",
   "execution_count": 63,
   "id": "7ff91d38",
   "metadata": {},
   "outputs": [],
   "source": [
    "tup3 = ( 'one','two','three') # tuple of string"
   ]
  },
  {
   "cell_type": "code",
   "execution_count": 64,
   "id": "c9be8f67",
   "metadata": {},
   "outputs": [],
   "source": [
    "tup4 = ('data', 25,(50,100),(200,90)) # nested tuple"
   ]
  },
  {
   "cell_type": "code",
   "execution_count": 3,
   "id": "169ec10b",
   "metadata": {},
   "outputs": [],
   "source": [
    "myset={2,3,4}"
   ]
  },
  {
   "cell_type": "code",
   "execution_count": 4,
   "id": "a75a159f",
   "metadata": {},
   "outputs": [],
   "source": [
    "myset.update(['TEN' , 'ELEVEN' , 'TWELVE','ONE'])"
   ]
  },
  {
   "cell_type": "code",
   "execution_count": 5,
   "id": "e7bf3092",
   "metadata": {},
   "outputs": [
    {
     "data": {
      "text/plain": [
       "{2, 3, 4, 'ELEVEN', 'ONE', 'TEN', 'TWELVE'}"
      ]
     },
     "execution_count": 5,
     "metadata": {},
     "output_type": "execute_result"
    }
   ],
   "source": [
    "myset"
   ]
  },
  {
   "cell_type": "code",
   "execution_count": 6,
   "id": "1a0e3e78",
   "metadata": {},
   "outputs": [
    {
     "data": {
      "text/plain": [
       "{2, 3, 4, 'ELEVEN', 'ONE', 'TWELVE'}"
      ]
     },
     "execution_count": 6,
     "metadata": {},
     "output_type": "execute_result"
    }
   ],
   "source": [
    "myset.remove('TEN')  \n",
    "myset"
   ]
  },
  {
   "cell_type": "code",
   "execution_count": 1,
   "id": "7003a5a9",
   "metadata": {},
   "outputs": [],
   "source": [
    "d={}"
   ]
  },
  {
   "cell_type": "code",
   "execution_count": 1,
   "id": "3f6919f3",
   "metadata": {},
   "outputs": [
    {
     "name": "stdout",
     "output_type": "stream",
     "text": [
      "enter integer1 number20\n",
      "enter the integer2 number30\n",
      "enter the integer3 number40\n",
      "The largest number is 40\n"
     ]
    }
   ],
   "source": [
    "# input \n",
    "a=int(input('enter integer1 number'))\n",
    "b=int(input('enter the integer2 number'))\n",
    "c=int(input('enter the integer3 number'))\n",
    "\n",
    "if a >= b and b >= c:\n",
    "    largest = a\n",
    "elif b >= a and b >= c:\n",
    "    largest = b\n",
    "else:\n",
    "    largest = c\n",
    "    \n",
    "print(\"The largest number is\",largest)"
   ]
  },
  {
   "cell_type": "code",
   "execution_count": 22,
   "id": "e1f830bd",
   "metadata": {},
   "outputs": [
    {
     "data": {
      "text/plain": [
       "[10, 50, 15]"
      ]
     },
     "execution_count": 22,
     "metadata": {},
     "output_type": "execute_result"
    }
   ],
   "source": [
    "list1=[10,50,15]\n",
    "list1"
   ]
  },
  {
   "cell_type": "code",
   "execution_count": 7,
   "id": "24bdce4f",
   "metadata": {},
   "outputs": [
    {
     "data": {
      "text/plain": [
       "75"
      ]
     },
     "execution_count": 7,
     "metadata": {},
     "output_type": "execute_result"
    }
   ],
   "source": [
    "Sum= list1[0]+list1[1]+list1[2]\n",
    "Sum"
   ]
  },
  {
   "cell_type": "code",
   "execution_count": 23,
   "id": "6e0ac333",
   "metadata": {},
   "outputs": [
    {
     "data": {
      "text/plain": [
       "[15, 50, 10]"
      ]
     },
     "execution_count": 23,
     "metadata": {},
     "output_type": "execute_result"
    }
   ],
   "source": [
    "list1.reverse()\n",
    "list1"
   ]
  },
  {
   "cell_type": "code",
   "execution_count": 14,
   "id": "a3d598b6",
   "metadata": {},
   "outputs": [
    {
     "ename": "TypeError",
     "evalue": "descriptor 'remove' for 'list' objects doesn't apply to a 'int' object",
     "output_type": "error",
     "traceback": [
      "\u001b[1;31m---------------------------------------------------------------------------\u001b[0m",
      "\u001b[1;31mTypeError\u001b[0m                                 Traceback (most recent call last)",
      "Cell \u001b[1;32mIn[14], line 1\u001b[0m\n\u001b[1;32m----> 1\u001b[0m \u001b[38;5;28mlist\u001b[39m\u001b[38;5;241m.\u001b[39mremove(\u001b[38;5;241m15\u001b[39m)\n",
      "\u001b[1;31mTypeError\u001b[0m: descriptor 'remove' for 'list' objects doesn't apply to a 'int' object"
     ]
    }
   ],
   "source": [
    "\n"
   ]
  },
  {
   "cell_type": "code",
   "execution_count": 35,
   "id": "3ebd9d81",
   "metadata": {},
   "outputs": [
    {
     "data": {
      "text/plain": [
       "[['Hello', 'to', 'Python']]"
      ]
     },
     "execution_count": 35,
     "metadata": {},
     "output_type": "execute_result"
    }
   ],
   "source": [
    "list1= ['Hello to Python']\n",
    "new_list =[item.split() for item in list1]\n",
    "new_list\n"
   ]
  },
  {
   "cell_type": "code",
   "execution_count": 1,
   "id": "b62ee0d9",
   "metadata": {},
   "outputs": [
    {
     "name": "stdout",
     "output_type": "stream",
     "text": [
      "enter the name:abdul\n",
      "enter profession:engineer \n",
      "enter the email:abdul@asd.com\n"
     ]
    },
    {
     "data": {
      "text/plain": [
       "{'abdul', 'abdul@asd.com', 'engineer '}"
      ]
     },
     "execution_count": 1,
     "metadata": {},
     "output_type": "execute_result"
    }
   ],
   "source": [
    "name=input('enter the name:')\n",
    "profession=input('enter profession:')\n",
    "email=input('enter the email:')\n",
    "set={name,profession,email}\n",
    "set"
   ]
  },
  {
   "cell_type": "code",
   "execution_count": 1,
   "id": "09189221",
   "metadata": {},
   "outputs": [
    {
     "name": "stdout",
     "output_type": "stream",
     "text": [
      "while condition is true 1\n",
      "while condition is true 2\n",
      "while condition is true 3\n",
      "while condition is true 4\n",
      "while condition is true 5\n"
     ]
    }
   ],
   "source": [
    "# simple while loop\n",
    "i=1\n",
    "while i<6:\n",
    "    print('while condition is true',i)\n",
    "    i=i+1 # ==> i=i+1"
   ]
  },
  {
   "cell_type": "code",
   "execution_count": 2,
   "id": "faa5425f",
   "metadata": {},
   "outputs": [
    {
     "name": "stdout",
     "output_type": "stream",
     "text": [
      "while condition is true 1\n",
      "while condition is true 2\n",
      "while condition is true 3\n",
      "while condition is true 4\n",
      "while condition is true 5\n",
      "while condition is true 6\n"
     ]
    }
   ],
   "source": [
    "i=1\n",
    "while i<=6:\n",
    "    print('while condition is true',i)\n",
    "    i=i+1 # ==> i=i+1"
   ]
  },
  {
   "cell_type": "code",
   "execution_count": 3,
   "id": "4f3625f0",
   "metadata": {},
   "outputs": [
    {
     "name": "stdout",
     "output_type": "stream",
     "text": [
      "start of while\n",
      "1\n",
      "2\n",
      "3\n",
      "end of while\n"
     ]
    }
   ],
   "source": [
    "i=1\n",
    "print(\"start of while\")\n",
    "while i<6:\n",
    "    print(i)\n",
    "    if i==3:\n",
    "        break\n",
    "    i=i+1\n",
    "print(\"end of while\")    "
   ]
  },
  {
   "cell_type": "code",
   "execution_count": 5,
   "id": "e93783cd",
   "metadata": {},
   "outputs": [
    {
     "name": "stdout",
     "output_type": "stream",
     "text": [
      "3\n",
      "4\n",
      "5\n",
      "while loop is false\n",
      "hi\n"
     ]
    }
   ],
   "source": [
    "i=3\n",
    "while i<6:\n",
    "    print(i)\n",
    "    i+=1\n",
    "else:\n",
    "    print(\"while loop is false\")\n",
    "print(\"hi\")"
   ]
  },
  {
   "cell_type": "code",
   "execution_count": 7,
   "id": "cb94abbc",
   "metadata": {},
   "outputs": [
    {
     "name": "stdout",
     "output_type": "stream",
     "text": [
      "1 successful\n",
      "2 successful\n",
      "3 successful\n"
     ]
    }
   ],
   "source": [
    "count=0\n",
    "while (count<3):\n",
    "    count=count+1\n",
    "    print(count,\"successful\")"
   ]
  },
  {
   "cell_type": "code",
   "execution_count": 1,
   "id": "29e670c6",
   "metadata": {},
   "outputs": [
    {
     "name": "stdout",
     "output_type": "stream",
     "text": [
      "D\n",
      "A\n",
      "T\n",
      "A\n",
      " \n",
      "S\n",
      "C\n",
      "I\n",
      "E\n",
      "N\n",
      "C\n",
      "E\n",
      " \n",
      "C\n",
      "O\n",
      "U\n",
      "R\n",
      "S\n",
      "E\n",
      "['D', 'A', 'T', 'A', ' ', 'S', 'C', 'I', 'E', 'N', 'C', 'E', ' ', 'C', 'O', 'U', 'R', 'S', 'E']\n"
     ]
    }
   ],
   "source": [
    "s='data science course'\n",
    "s1=[]\n",
    "for i in s:\n",
    "    print(i.upper())\n",
    "    s1.extend(i.upper())\n",
    "print(s1)"
   ]
  },
  {
   "cell_type": "code",
   "execution_count": 2,
   "id": "1edccd0a",
   "metadata": {},
   "outputs": [
    {
     "name": "stdout",
     "output_type": "stream",
     "text": [
      "Banana\n"
     ]
    }
   ],
   "source": [
    "fruits = {1:'Apple',2:'Banana',3:'Mango',4:'Watermelon'}\n",
    "for i in fruits:\n",
    "    if fruits[i]=='Banana':\n",
    "        print(fruits[i])"
   ]
  },
  {
   "cell_type": "code",
   "execution_count": 3,
   "id": "8c24849c",
   "metadata": {},
   "outputs": [
    {
     "name": "stdout",
     "output_type": "stream",
     "text": [
      "1 Apple\n",
      "Banana\n",
      "2 Banana\n",
      "3 Mango\n",
      "4 Watermelon\n"
     ]
    }
   ],
   "source": [
    "fruits = {1:'Apple',2:'Banana',3:'Mango',4:'Watermelon'}\n",
    "for i in fruits:\n",
    "    if fruits[i]=='Banana':\n",
    "        print(fruits[i])\n",
    "    if fruits[i]!='banana':\n",
    "        print(i,fruits[i])"
   ]
  },
  {
   "cell_type": "code",
   "execution_count": 6,
   "id": "d926ef43",
   "metadata": {},
   "outputs": [
    {
     "name": "stdout",
     "output_type": "stream",
     "text": [
      "apple\n",
      "banana\n",
      "mango\n"
     ]
    }
   ],
   "source": [
    "# print tuple values usinf for loop\n",
    "tup=('apple','banana','mango')\n",
    "for value in tup:\n",
    "    print(value)"
   ]
  },
  {
   "cell_type": "code",
   "execution_count": 8,
   "id": "22c5ec33",
   "metadata": {},
   "outputs": [
    {
     "name": "stdout",
     "output_type": "stream",
     "text": [
      "1\n",
      "2\n",
      "3\n",
      "4\n"
     ]
    }
   ],
   "source": [
    "set={1,2,3,4}\n",
    "for value in set:\n",
    "    print(value)"
   ]
  },
  {
   "cell_type": "code",
   "execution_count": 10,
   "id": "223b6805",
   "metadata": {},
   "outputs": [
    {
     "name": "stdout",
     "output_type": "stream",
     "text": [
      "1\n",
      "2\n",
      "3\n",
      "4\n",
      "5\n",
      "6\n",
      "7\n",
      "8\n",
      "9\n"
     ]
    }
   ],
   "source": [
    "for i in range(1,10):\n",
    "    print(i)"
   ]
  },
  {
   "cell_type": "code",
   "execution_count": 11,
   "id": "c02a1f90",
   "metadata": {},
   "outputs": [
    {
     "name": "stdout",
     "output_type": "stream",
     "text": [
      "0\n",
      "1\n",
      "2\n",
      "3\n",
      "4\n",
      "5\n",
      "6\n",
      "7\n",
      "8\n",
      "9\n"
     ]
    }
   ],
   "source": [
    "for i in range(0,10):\n",
    "    print(i)"
   ]
  },
  {
   "cell_type": "code",
   "execution_count": 12,
   "id": "5c24aa31",
   "metadata": {},
   "outputs": [
    {
     "name": "stdout",
     "output_type": "stream",
     "text": [
      "1\n",
      "3\n",
      "5\n",
      "7\n",
      "9\n"
     ]
    }
   ],
   "source": [
    "for i in range(1,10,2):\n",
    "    print(i)"
   ]
  },
  {
   "cell_type": "code",
   "execution_count": 13,
   "id": "526ad8ac",
   "metadata": {},
   "outputs": [
    {
     "name": "stdout",
     "output_type": "stream",
     "text": [
      "0\n",
      "1\n",
      "2\n",
      "3\n",
      "4\n"
     ]
    }
   ],
   "source": [
    "for i in range(5):\n",
    "    print(i)\n"
   ]
  },
  {
   "cell_type": "code",
   "execution_count": 14,
   "id": "1f14c463",
   "metadata": {},
   "outputs": [],
   "source": [
    "list1=['apple','banana','geo']\n",
    "list2=[20,10,30]"
   ]
  },
  {
   "cell_type": "code",
   "execution_count": 15,
   "id": "d85ce454",
   "metadata": {},
   "outputs": [
    {
     "name": "stdout",
     "output_type": "stream",
     "text": [
      "apple 20\n",
      "apple 10\n",
      "apple 30\n",
      "banana 20\n",
      "banana 10\n",
      "banana 30\n",
      "geo 20\n",
      "geo 10\n",
      "geo 30\n"
     ]
    }
   ],
   "source": [
    "for i in list1: #outer loop\n",
    "    for k in list2: #inner loop\n",
    "        print(i,k)"
   ]
  },
  {
   "cell_type": "code",
   "execution_count": 29,
   "id": "e0023ef7",
   "metadata": {},
   "outputs": [
    {
     "name": "stdout",
     "output_type": "stream",
     "text": [
      "0 2\n",
      "0 3\n",
      "1 2\n",
      "1 3\n"
     ]
    }
   ],
   "source": [
    "list1=[0,1]\n",
    "list2=[2,3]\n",
    "for i in list1:\n",
    "    for k in list2:\n",
    "        print(i,k)"
   ]
  },
  {
   "cell_type": "code",
   "execution_count": 20,
   "id": "ed116d68",
   "metadata": {},
   "outputs": [
    {
     "name": "stdout",
     "output_type": "stream",
     "text": [
      "Matrix[0][0]\n",
      "Matrix[0][1]\n",
      "Matrix[1][0]\n",
      "Matrix[1][1]\n"
     ]
    }
   ],
   "source": [
    "for i in range(2):\n",
    "    for j in range(2):\n",
    "        print(f\"Matrix[{i}][{j}]\")"
   ]
  },
  {
   "cell_type": "code",
   "execution_count": 27,
   "id": "068dc99e",
   "metadata": {},
   "outputs": [
    {
     "name": "stdout",
     "output_type": "stream",
     "text": [
      "50\n",
      "20\n",
      "60\n",
      "20\n"
     ]
    }
   ],
   "source": [
    "item_prices = {\n",
    "    \"apple\": 50,\n",
    "    \"banana\": 20,\n",
    "    \"orange\": 60,\n",
    "    \"chocolate\": 20,\n",
    "}\n",
    "for i in item_prices.values():\n",
    "    print(i)\n",
    "    "
   ]
  },
  {
   "cell_type": "code",
   "execution_count": 28,
   "id": "46618d33",
   "metadata": {},
   "outputs": [
    {
     "name": "stdout",
     "output_type": "stream",
     "text": [
      "Available items in the cart:\n",
      "item1: $10.99\n",
      "item2: $5.99\n",
      "Enter the name of item 1 to purchase: item1\n",
      "Enter the name of item 2 to purchase: item2\n",
      "Selected items:\n",
      "item1\n",
      "item2\n",
      "Total amount: $16.98\n"
     ]
    }
   ],
   "source": [
    "# Define the cart as a dictionary where the keys are item names and the values are their prices.\n",
    "cart = {\n",
    "    \"item1\": 10.99,\n",
    "    \"item2\": 5.99\n",
    "}\n",
    "\n",
    "# Initialize variables to keep track of the items to purchase and the total amount.\n",
    "items_to_purchase = []\n",
    "total_amount = 0.0\n",
    "\n",
    "# Display the available items in the cart.\n",
    "print(\"Available items in the cart:\")\n",
    "for item, price in cart.items():\n",
    "    print(f\"{item}: ${price}\")\n",
    "\n",
    "# Let the user select items to purchase.\n",
    "for i in range(2):\n",
    "    item = input(f\"Enter the name of item {i + 1} to purchase: \")\n",
    "    if item in cart:\n",
    "        items_to_purchase.append(item)\n",
    "        total_amount += cart[item]\n",
    "    else:\n",
    "        print(f\"Item {item} is not available in the cart. Please choose from the available items.\")\n",
    "\n",
    "# Display the selected items and the total amount.\n",
    "print(\"Selected items:\")\n",
    "for item in items_to_purchase:\n",
    "    print(item)\n",
    "print(f\"Total amount: ${total_amount:.2f}\")"
   ]
  },
  {
   "cell_type": "code",
   "execution_count": 39,
   "id": "5ce3dbf0",
   "metadata": {},
   "outputs": [
    {
     "name": "stdout",
     "output_type": "stream",
     "text": [
      "Total: 30\n"
     ]
    }
   ],
   "source": [
    "#Task: print the toatl checkout amount for purchasing 2 items from cart\n",
    "## cart contemt: {}\n",
    "\n",
    "cart= {1:{'name':\"A\",\"price\":10},2:{'name':\"B\",\"price\":20}}\n",
    "total=0\n",
    "\n",
    "for item in cart:\n",
    "      for i in cart[item]:\n",
    "        if i=='price':\n",
    "            total= total+cart[item][i]\n",
    "print(\"Total:\",total)"
   ]
  },
  {
   "cell_type": "code",
   "execution_count": 4,
   "id": "6e69d146",
   "metadata": {},
   "outputs": [
    {
     "name": "stdout",
     "output_type": "stream",
     "text": [
      "{'key1': 'value1', 'key2': 'value2', 'key3': 'value3'}\n"
     ]
    }
   ],
   "source": [
    "# Define a dictionary\n",
    "Dict = {'key1': 'value1', 'key2': 'value2'}\n",
    "\n",
    "\n",
    "# Add a new key-value pair\n",
    "key = 'key3'\n",
    "value = 'value3'\n",
    "Dict[key] = value\n",
    "\n",
    "# Print the updated dictionary\n",
    "print(Dict)"
   ]
  },
  {
   "cell_type": "code",
   "execution_count": 5,
   "id": "c21c8b40",
   "metadata": {},
   "outputs": [
    {
     "data": {
      "text/plain": [
       "{'key2': 'value2', 'key3': 'value3'}"
      ]
     },
     "execution_count": 5,
     "metadata": {},
     "output_type": "execute_result"
    }
   ],
   "source": [
    "# del specific key\n",
    "Dict.pop('key1') \n",
    "Dict"
   ]
  },
  {
   "cell_type": "code",
   "execution_count": 9,
   "id": "a157fa22",
   "metadata": {},
   "outputs": [
    {
     "data": {
      "text/plain": [
       "True"
      ]
     },
     "execution_count": 9,
     "metadata": {},
     "output_type": "execute_result"
    }
   ],
   "source": [
    "'key2' in Dict"
   ]
  },
  {
   "cell_type": "code",
   "execution_count": 11,
   "id": "d7045cd5",
   "metadata": {},
   "outputs": [
    {
     "name": "stdout",
     "output_type": "stream",
     "text": [
      "The key 'mango' has the highest value: 250\n"
     ]
    }
   ],
   "source": [
    "# Find the key with the highest value\n",
    "Dict={'apple':200 ,'mango':250 , 'milk':150}\n",
    "max_key = max(Dict, key=Dict.get)\n",
    "\n",
    "# Get the highest value\n",
    "highest_value = Dict[max_key]\n",
    "\n",
    "# Print the result\n",
    "print(f\"The key '{max_key}' has the highest value: {highest_value}\")"
   ]
  },
  {
   "cell_type": "code",
   "execution_count": 12,
   "id": "2e8159e5",
   "metadata": {},
   "outputs": [
    {
     "name": "stdout",
     "output_type": "stream",
     "text": [
      "dict_values([56, 68, 81, 54])\n",
      "81\n"
     ]
    }
   ],
   "source": [
    "#Task: get Highest value in the dictionary  \n",
    "marklist = {'s1':56,'s2':68,'s3':81,'s4':54 } \n",
    "marks =  marklist.values() \n",
    "print(marks)  \n",
    "print(max(marks))"
   ]
  },
  {
   "cell_type": "code",
   "execution_count": 13,
   "id": "b050a44e",
   "metadata": {},
   "outputs": [],
   "source": [
    "def area_of_circle(r):\n",
    "    area=3.14*r*r\n",
    "    print(area)"
   ]
  },
  {
   "cell_type": "code",
   "execution_count": 15,
   "id": "03de3389",
   "metadata": {},
   "outputs": [
    {
     "name": "stdout",
     "output_type": "stream",
     "text": [
      "78.5\n"
     ]
    }
   ],
   "source": [
    "area_of_circle(5)"
   ]
  },
  {
   "cell_type": "code",
   "execution_count": 16,
   "id": "8ac6d507",
   "metadata": {},
   "outputs": [],
   "source": [
    "def rectangle(l,b):\n",
    "    area=l*b\n",
    "    return area"
   ]
  },
  {
   "cell_type": "code",
   "execution_count": 17,
   "id": "7953e346",
   "metadata": {},
   "outputs": [
    {
     "name": "stdout",
     "output_type": "stream",
     "text": [
      "area of rectangle is  3\n"
     ]
    }
   ],
   "source": [
    "a=rectangle(3,1)\n",
    "print(\"area of rectangle is \",a)"
   ]
  },
  {
   "cell_type": "code",
   "execution_count": 19,
   "id": "d93144af",
   "metadata": {},
   "outputs": [],
   "source": [
    "def squareofnum():\n",
    "    a=int(input(\"enter a number:\"))\n",
    "    return a**2"
   ]
  },
  {
   "cell_type": "code",
   "execution_count": 20,
   "id": "77f38052",
   "metadata": {},
   "outputs": [
    {
     "name": "stdout",
     "output_type": "stream",
     "text": [
      "enter a number:5\n"
     ]
    },
    {
     "data": {
      "text/plain": [
       "25"
      ]
     },
     "execution_count": 20,
     "metadata": {},
     "output_type": "execute_result"
    }
   ],
   "source": [
    "squareofnum()"
   ]
  },
  {
   "cell_type": "code",
   "execution_count": 23,
   "id": "c33fd3e2",
   "metadata": {},
   "outputs": [
    {
     "name": "stdout",
     "output_type": "stream",
     "text": [
      "enter a number:2\n",
      "square number of is : 4\n"
     ]
    }
   ],
   "source": [
    "print('square number of is :',squareofnum())"
   ]
  },
  {
   "cell_type": "code",
   "execution_count": 43,
   "id": "0c139e11",
   "metadata": {},
   "outputs": [
    {
     "name": "stdout",
     "output_type": "stream",
     "text": [
      "enter the 1st number:10\n",
      "enter the 2st number:20\n",
      "sum of 10 and 20 is: 30\n"
     ]
    }
   ],
   "source": [
    "a=int(input(\"enter the 1st number:\"))\n",
    "b=int(input(\"enter the 2st number:\"))\n",
    "def sum(a,b):\n",
    "    return a+b\n",
    "print(\"sum of\",a,\"and\",b,\"is:\",sum(a,b))"
   ]
  },
  {
   "cell_type": "code",
   "execution_count": 51,
   "id": "7a9f79a2",
   "metadata": {},
   "outputs": [
    {
     "name": "stdout",
     "output_type": "stream",
     "text": [
      "11 is odd\n",
      "13 is odd\n",
      "15 is odd\n",
      "17 is odd\n",
      "19 is odd\n"
     ]
    }
   ],
   "source": [
    "def odd():\n",
    "    for i in range(10,21):\n",
    "        if i%2!=0:\n",
    "            print(i,\"is odd\")\n",
    "odd()            "
   ]
  },
  {
   "cell_type": "code",
   "execution_count": 1,
   "id": "52c12497",
   "metadata": {},
   "outputs": [
    {
     "name": "stdout",
     "output_type": "stream",
     "text": [
      "13\n"
     ]
    }
   ],
   "source": [
    "from functools import reduce\n",
    "lis=[1,3,4,5]\n",
    "print(reduce(lambda a,b: a+b, lis))"
   ]
  },
  {
   "cell_type": "code",
   "execution_count": 2,
   "id": "9e3364e6",
   "metadata": {},
   "outputs": [
    {
     "name": "stdout",
     "output_type": "stream",
     "text": [
      "the max element of list is:6\n"
     ]
    }
   ],
   "source": [
    "lis=[1,3,5,6,2]\n",
    "print(\"the max element of list is:\",end=\"\")\n",
    "print(reduce(lambda a,b:a if a>b else b,lis))"
   ]
  },
  {
   "cell_type": "code",
   "execution_count": 8,
   "id": "1bbb4627",
   "metadata": {},
   "outputs": [
    {
     "name": "stdout",
     "output_type": "stream",
     "text": [
      "Enter number: 2\n",
      "Result: ['Even']\n"
     ]
    }
   ],
   "source": [
    "def check_odd_even(number):\n",
    "    if number % 2 == 0:\n",
    "        return \"Even\"\n",
    "    else:\n",
    "        return \"Odd\"\n",
    "\n",
    "user = input(\"Enter number: \")\n",
    "numbers = list(map(int, user.split()))\n",
    "\n",
    "result = list(map(check_odd_even, numbers))\n",
    "\n",
    "print(\"Result:\",result)"
   ]
  },
  {
   "cell_type": "code",
   "execution_count": 40,
   "id": "8a8ccdb0",
   "metadata": {},
   "outputs": [
    {
     "name": "stdout",
     "output_type": "stream",
     "text": [
      "Enter a number: 6\n",
      "6 is not a prime number\n"
     ]
    }
   ],
   "source": [
    "def is_prime(n):\n",
    "    if n <= 1:\n",
    "        return False\n",
    "    if n <= 3:\n",
    "        return True\n",
    "    if n % 2 == 0 or n % 3 == 0:\n",
    "        return False\n",
    "    i = 5\n",
    "    while i * i <= n:\n",
    "        if n % i == 0 or n % (i + 2) == 0:\n",
    "            return False\n",
    "        i += 6\n",
    "    return True\n",
    "\n",
    "def main():\n",
    "    n = int(input(\"Enter a number: \"))\n",
    "    if is_prime(n):\n",
    "        print(n, \"is a prime number\")\n",
    "    else:\n",
    "        print(n, \"is not a prime number\")\n",
    "\n",
    "if __name__ == \"__main__\":\n",
    "    main()\n"
   ]
  },
  {
   "cell_type": "code",
   "execution_count": 41,
   "id": "3e1fd48d",
   "metadata": {},
   "outputs": [
    {
     "name": "stdout",
     "output_type": "stream",
     "text": [
      "Enter a list of numbers separated by spaces: 5 2 10\n",
      "5 is prime: True\n",
      "2 is prime: True\n",
      "10 is prime: False\n"
     ]
    }
   ],
   "source": [
    "def is_prime(num):\n",
    "    if num < 2:\n",
    "        return False\n",
    "    for i in range(2, int(num**0.5) + 1):\n",
    "        if num % i == 0:\n",
    "            return False\n",
    "    return True\n",
    "\n",
    "# Get a list of numbers from the user\n",
    "numbers = list(map(int, input(\"Enter a list of numbers separated by spaces: \").split()))\n",
    "\n",
    "# Use map to apply the is_prime function to each number in the list\n",
    "result = list(map(is_prime, numbers))\n",
    "\n",
    "# Print the results\n",
    "for num, prime in zip(numbers, result):\n",
    "    print(f\"{num} is prime: {prime}\")"
   ]
  },
  {
   "cell_type": "code",
   "execution_count": 43,
   "id": "5579aa3d",
   "metadata": {},
   "outputs": [
    {
     "name": "stdout",
     "output_type": "stream",
     "text": [
      "Enter a list of numbers separated by spaces: 10 5 2\n",
      "10 is prime: False\n",
      "5 is prime: True\n",
      "2 is prime: True\n"
     ]
    }
   ],
   "source": [
    "def is_prime(num):\n",
    "    if num < 2:\n",
    "        return False\n",
    "    for i in range(2, int(num**0.5) + 1):\n",
    "        if num % i == 0:\n",
    "            return False\n",
    "    return True\n",
    "\n",
    "# Get a list of numbers from the user\n",
    "numbers = list(map(int, input(\"Enter a list of numbers separated by spaces: \").split()))\n",
    "\n",
    "# Use map to apply the is_prime function to each number in the list and print the results\n",
    "print(\"\\n\".join([f\"{num} is prime: {is_prime(num)}\" for num in numbers]))"
   ]
  },
  {
   "cell_type": "code",
   "execution_count": 46,
   "id": "09bd0e0e",
   "metadata": {},
   "outputs": [
    {
     "name": "stdout",
     "output_type": "stream",
     "text": [
      "Enter numbers: 2 5 6\n",
      "Product = 60\n"
     ]
    }
   ],
   "source": [
    "def cal_product(numbers):     \n",
    "    prod = 1     \n",
    "    for n in numbers:         \n",
    "        prod *= n     \n",
    "    return prod  \n",
    "numbers = input(\"Enter numbers: \").split() \n",
    "numbers = list(map(int, numbers)) \n",
    "res = cal_product(numbers)  \n",
    "print(\"Product =\" ,res)"
   ]
  },
  {
   "cell_type": "code",
   "execution_count": 48,
   "id": "cdfcbfb5",
   "metadata": {},
   "outputs": [
    {
     "name": "stdout",
     "output_type": "stream",
     "text": [
      "Enter numbers: 2 5 6\n",
      "Product = 60\n"
     ]
    }
   ],
   "source": [
    "from functools import reduce\n",
    "\n",
    "def cal_product(numbers):\n",
    "    return reduce(lambda x, y: x * y, numbers)\n",
    "\n",
    "numbers = list(map(int, input(\"Enter numbers: \").split()))\n",
    "res = cal_product(numbers)\n",
    "print(\"Product =\", res)"
   ]
  },
  {
   "cell_type": "code",
   "execution_count": null,
   "id": "7d2e2600",
   "metadata": {},
   "outputs": [],
   "source": [
    "4. Get the square root of the numbers in a tuple.     5. Get the prime numbers from the numbers 11 to 30.     6. Create 2 lists of interger values, add both the list element-wise and filter the values which are greater than 10 and find the product of those value (Using lambda, map,filter and reduce).\n"
   ]
  }
 ],
 "metadata": {
  "kernelspec": {
   "display_name": "Python 3 (ipykernel)",
   "language": "python",
   "name": "python3"
  },
  "language_info": {
   "codemirror_mode": {
    "name": "ipython",
    "version": 3
   },
   "file_extension": ".py",
   "mimetype": "text/x-python",
   "name": "python",
   "nbconvert_exporter": "python",
   "pygments_lexer": "ipython3",
   "version": "3.11.5"
  }
 },
 "nbformat": 4,
 "nbformat_minor": 5
}
