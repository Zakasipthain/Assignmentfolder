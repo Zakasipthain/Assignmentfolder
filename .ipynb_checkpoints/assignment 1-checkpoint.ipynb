{
 "cells": [
  {
   "cell_type": "code",
   "execution_count": 1,
   "id": "f4c69c76",
   "metadata": {},
   "outputs": [
    {
     "name": "stdout",
     "output_type": "stream",
     "text": [
      "['False', 'None', 'True', 'and', 'as', 'assert', 'async', 'await', 'break', 'class', 'continue', 'def', 'del', 'elif', 'else', 'except', 'finally', 'for', 'from', 'global', 'if', 'import', 'in', 'is', 'lambda', 'nonlocal', 'not', 'or', 'pass', 'raise', 'return', 'try', 'while', 'with', 'yield']\n"
     ]
    }
   ],
   "source": [
    "import keyword\n",
    "print(keyword.kwlist)"
   ]
  },
  {
   "cell_type": "code",
   "execution_count": 2,
   "id": "42c14c4b",
   "metadata": {},
   "outputs": [
    {
     "data": {
      "text/plain": [
       "35"
      ]
     },
     "execution_count": 2,
     "metadata": {},
     "output_type": "execute_result"
    }
   ],
   "source": [
    "len(keyword.kwlist)"
   ]
  },
  {
   "cell_type": "code",
   "execution_count": 3,
   "id": "60320fb8",
   "metadata": {},
   "outputs": [
    {
     "data": {
      "text/plain": [
       "25"
      ]
     },
     "execution_count": 3,
     "metadata": {},
     "output_type": "execute_result"
    }
   ],
   "source": [
    "# finding square of a number 5 \n",
    "a=5**2\n",
    "# a will print square of 5 \n",
    "a"
   ]
  },
  {
   "cell_type": "code",
   "execution_count": 4,
   "id": "ebcb4d52",
   "metadata": {},
   "outputs": [],
   "source": [
    "x1=10\n",
    "y1=20"
   ]
  },
  {
   "cell_type": "code",
   "execution_count": 5,
   "id": "eb360a7f",
   "metadata": {},
   "outputs": [],
   "source": [
    "ans=x1+y1"
   ]
  },
  {
   "cell_type": "code",
   "execution_count": 6,
   "id": "dbeeeceb",
   "metadata": {},
   "outputs": [
    {
     "data": {
      "text/plain": [
       "30"
      ]
     },
     "execution_count": 6,
     "metadata": {},
     "output_type": "execute_result"
    }
   ],
   "source": [
    "ans"
   ]
  },
  {
   "cell_type": "code",
   "execution_count": 2,
   "id": "4803bfab",
   "metadata": {},
   "outputs": [
    {
     "name": "stdout",
     "output_type": "stream",
     "text": [
      "10 140713571292232 <class 'int'>\n",
      "He110 World 2058716752048 <class 'str'>\n",
      "10.5 2058715878864 <class 'float'>\n"
     ]
    }
   ],
   "source": [
    "x=10\n",
    "print (x,id(x),type(x))\n",
    "\n",
    "x=\"He110 World\" # Latest assignment\n",
    "print (x,id(x),type(x))\n",
    "\n",
    "x=10.5\n",
    "print (x,id(x),type(x))"
   ]
  },
  {
   "cell_type": "code",
   "execution_count": 6,
   "id": "8716880d",
   "metadata": {},
   "outputs": [
    {
     "name": "stdout",
     "output_type": "stream",
     "text": [
      "the value of intvar is; 10\n",
      "2.57\n",
      "Python Language\n"
     ]
    }
   ],
   "source": [
    "intvar , floatvar,strvar= 10, 2.57, \"Python Language\"\n",
    "# Using commas to separate\n",
    "print( 'the value of intvar is;', intvar)\n",
    "print(floatvar)\n",
    "print(strvar)"
   ]
  },
  {
   "cell_type": "code",
   "execution_count": 10,
   "id": "c9cae230",
   "metadata": {},
   "outputs": [
    {
     "name": "stdout",
     "output_type": "stream",
     "text": [
      "140713571293320 44 44 44 140713571293320\n"
     ]
    }
   ],
   "source": [
    "p1= p2 = p3= p4 = 44\n",
    "# ALL variables pointing to same value\n",
    "print(id(p1),p2, p3, p4,id(p4) )"
   ]
  },
  {
   "cell_type": "code",
   "execution_count": null,
   "id": "0180ed61",
   "metadata": {},
   "outputs": [],
   "source": []
  }
 ],
 "metadata": {
  "kernelspec": {
   "display_name": "Python 3 (ipykernel)",
   "language": "python",
   "name": "python3"
  },
  "language_info": {
   "codemirror_mode": {
    "name": "ipython",
    "version": 3
   },
   "file_extension": ".py",
   "mimetype": "text/x-python",
   "name": "python",
   "nbconvert_exporter": "python",
   "pygments_lexer": "ipython3",
   "version": "3.11.5"
  }
 },
 "nbformat": 4,
 "nbformat_minor": 5
}
